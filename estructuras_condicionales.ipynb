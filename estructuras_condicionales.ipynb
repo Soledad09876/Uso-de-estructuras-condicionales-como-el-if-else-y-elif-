{
  "nbformat": 4,
  "nbformat_minor": 0,
  "metadata": {
    "colab": {
      "provenance": [],
      "authorship_tag": "ABX9TyNdi/ZbVm8BCB5GOgd+sUVS",
      "include_colab_link": true
    },
    "kernelspec": {
      "name": "python3",
      "display_name": "Python 3"
    },
    "language_info": {
      "name": "python"
    }
  },
  "cells": [
    {
      "cell_type": "markdown",
      "metadata": {
        "id": "view-in-github",
        "colab_type": "text"
      },
      "source": [
        "<a href=\"https://colab.research.google.com/github/Soledad09876/Uso-de-estructuras-condicionales-como-el-if-else-y-elif-/blob/main/estructuras_condicionales.ipynb\" target=\"_parent\"><img src=\"https://colab.research.google.com/assets/colab-badge.svg\" alt=\"Open In Colab\"/></a>"
      ]
    },
    {
      "cell_type": "code",
      "execution_count": null,
      "metadata": {
        "id": "FqvTpCcqBXli"
      },
      "outputs": [],
      "source": [
        "##Escribe un programa que pida a la persona usuaria que proporcione dos números y muestre el número más grande."
      ]
    },
    {
      "cell_type": "code",
      "source": [
        "num1 = int(input(\"Proporciona un número: \"))\n",
        "num2 = int(input(\"Proporciona otro número: \"))\n",
        "if num1 > num2:\n",
        "    print(\"El número mayor es: \", num1)\n",
        "elif num2 > num1:\n",
        "    print(\"El número mayor es: \", num2)\n",
        "else:\n",
        "    print(\"Los números son iguales\")\n",
        ""
      ],
      "metadata": {
        "colab": {
          "base_uri": "https://localhost:8080/"
        },
        "id": "Uz7z97fOCHDU",
        "outputId": "2132ed0b-eda1-4ce4-d13a-f0fb1dcfe9fd"
      },
      "execution_count": 1,
      "outputs": [
        {
          "output_type": "stream",
          "name": "stdout",
          "text": [
            "Proporciona un número: 2\n",
            "Proporciona otro número: 4\n",
            "El número mayor es:  4\n"
          ]
        }
      ]
    },
    {
      "cell_type": "code",
      "source": [
        "##Escribe un programa que solicite el porcentaje de crecimiento de producción de una empresa\n",
        "##e informe si hubo un crecimiento (porcentaje positivo) o una disminución (porcentaje negativo)."
      ],
      "metadata": {
        "id": "azrPQMsfCIBS"
      },
      "execution_count": null,
      "outputs": []
    },
    {
      "cell_type": "code",
      "source": [
        "num1 = float(input(\"Proporciona el porcentaje de crecimiento de producción: \"))\n",
        "if num1 > 10:\n",
        "    print(\"Hubo un crecimiento de: \", num1)\n",
        "elif num1 < 10:\n",
        "    print(\"Hubo una disminución de: \", num1)\n",
        "else:\n",
        "    print(\"No hubo crecimiento ni disminución\")"
      ],
      "metadata": {
        "colab": {
          "base_uri": "https://localhost:8080/"
        },
        "id": "n-GHajOQCIOK",
        "outputId": "6b410d0a-6535-4488-b9a8-5633b5453946"
      },
      "execution_count": 3,
      "outputs": [
        {
          "output_type": "stream",
          "name": "stdout",
          "text": [
            "Proporciona el porcentaje de crecimiento de producción: 10\n",
            "No hubo crecimiento ni disminución\n"
          ]
        }
      ]
    },
    {
      "cell_type": "code",
      "source": [
        "##Escribe un programa que determine si una letra proporcionada por la persona usuaria es una vocal o una consonante."
      ],
      "metadata": {
        "id": "NDb4abOICIXh"
      },
      "execution_count": null,
      "outputs": []
    },
    {
      "cell_type": "code",
      "source": [
        "letra=str(input('Escribe una letra:'))\n",
        "print(letra)\n",
        "if letra == 'a' or letra == 'e' or letra == 'i' or letra == 'o' or letra == 'u':\n",
        "    print('Es una vocal')\n",
        "else:\n",
        "    print('Es una consonante')\n"
      ],
      "metadata": {
        "colab": {
          "base_uri": "https://localhost:8080/"
        },
        "id": "71EmDCDcCIfp",
        "outputId": "07d139e1-c3f1-497b-c550-1456c9444edb"
      },
      "execution_count": 5,
      "outputs": [
        {
          "output_type": "stream",
          "name": "stdout",
          "text": [
            "Escribe una letra:b\n",
            "b\n",
            "Es una consonante\n"
          ]
        }
      ]
    },
    {
      "cell_type": "code",
      "source": [
        "##Escribe un programa que lea valores promedio de precios de un modelo de automóvil durante 3 años consecutivos\n",
        "##y muestre el valor más alto y más bajo entre esos tres años."
      ],
      "metadata": {
        "id": "8OxNYsG1CIkm"
      },
      "execution_count": null,
      "outputs": []
    },
    {
      "cell_type": "code",
      "source": [
        "precio=float(input('Escribe el valor del primer año:'))\n",
        "precio2=float(input('Escribe el valor del segundo año:'))\n",
        "precio3=float(input('Escribe el valor del tercer año:'))\n",
        "\n",
        "if precio > precio2 and precio > precio3:\n",
        "    print('El valor más alto es:', precio)\n",
        "if precio2 > precio and precio2 > precio3:\n",
        "    print('El valor más alto es:', precio2)\n",
        "if precio3 > precio2 and precio3 > precio:\n",
        "    print('El valor más alto es:', precio3)\n",
        "\n",
        "if precio < precio2 and precio < precio3:\n",
        "    print('El valor más alto es:', precio)\n",
        "if precio2 < precio and precio2 < precio3:\n",
        "    print('El valor más alto es:', precio2)\n",
        "if precio3 < precio2 and precio3 < precio:\n",
        "    print('El valor más alto es:', precio3)\n"
      ],
      "metadata": {
        "colab": {
          "base_uri": "https://localhost:8080/"
        },
        "id": "T9j6xHDpCIpW",
        "outputId": "7c07e306-6afe-4ef9-b82c-88460962d32b"
      },
      "execution_count": 23,
      "outputs": [
        {
          "output_type": "stream",
          "name": "stdout",
          "text": [
            "Escribe el valor del primer año:1\n",
            "Escribe el valor del segundo año:2\n",
            "Escribe el valor del tercer año:3\n",
            "El valor más alto es: 3.0\n",
            "El valor más alto es: 1.0\n"
          ]
        }
      ]
    },
    {
      "cell_type": "code",
      "source": [
        "##Escribe un programa que pregunte sobre el precio de tres productos e indique cuál es el producto más barato para comprar."
      ],
      "metadata": {
        "id": "z7UXnHOgJXoP"
      },
      "execution_count": null,
      "outputs": []
    },
    {
      "cell_type": "code",
      "source": [
        "precio=float(input('Escribe el valor del primer producto:'))\n",
        "precio2=float(input('Escribe el valor del segundo producto:'))\n",
        "precio3=float(input('Escribe el valor del tercer producto:'))\n",
        "\n",
        "if precio < precio2 and precio < precio3:\n",
        "    print('El valor más barato es:', precio)\n",
        "if precio2 < precio and precio2 < precio3:\n",
        "    print('El valor más barato es:', precio2)\n",
        "if precio3 < precio2 and precio3 < precio:\n",
        "    print('El valor más barato es:', precio3)"
      ],
      "metadata": {
        "colab": {
          "base_uri": "https://localhost:8080/"
        },
        "id": "-ysFd9FaJYKc",
        "outputId": "25efb6f5-0e60-4227-b06f-5d3ce41c2823"
      },
      "execution_count": 24,
      "outputs": [
        {
          "output_type": "stream",
          "name": "stdout",
          "text": [
            "Escribe el valor del primer producto:10\n",
            "Escribe el valor del segundo producto:25\n",
            "Escribe el valor del tercer producto:50\n",
            "El valor más barato es: 10.0\n"
          ]
        }
      ]
    },
    {
      "cell_type": "code",
      "source": [
        "##Escribe un programa que lea tres números y los muestre en orden descendente."
      ],
      "metadata": {
        "id": "6SiHRyfmJYY1"
      },
      "execution_count": null,
      "outputs": []
    },
    {
      "cell_type": "code",
      "source": [
        "num1 = int(input(\"Proporciona un número: \"))\n",
        "num2 = int(input(\"Proporciona otro número: \"))\n",
        "num3 = int(input(\"Proporciona otro número: \"))\n",
        "\n",
        "numeros = [num1, num2, num3]\n",
        "numeros.sort(reverse=True)\n",
        "print(\"Números en orden descendente:\", numeros)\n"
      ],
      "metadata": {
        "colab": {
          "base_uri": "https://localhost:8080/"
        },
        "id": "c7pzWXNrJ4jb",
        "outputId": "a16a10e8-6cfc-461f-da22-b3d5b652c7e0"
      },
      "execution_count": 30,
      "outputs": [
        {
          "output_type": "stream",
          "name": "stdout",
          "text": [
            "Proporciona un número: 1\n",
            "Proporciona otro número: 3\n",
            "Proporciona otro número: 2\n",
            "Números en orden descendente: [3, 2, 1]\n"
          ]
        }
      ]
    },
    {
      "cell_type": "code",
      "source": [
        "##Escribe un programa que pregunte en qué turno estudia la persona usuaria (\"mañana\", \"tarde\" o \"noche\")\n",
        "##y muestre el mensaje \"¡Buenos Días!\", \"¡Buenas Tardes!\", \"¡Buenas Noches!\" o \"Valor Inválido!\", según el caso."
      ],
      "metadata": {
        "id": "e_FWxaA1J4v7"
      },
      "execution_count": null,
      "outputs": []
    },
    {
      "cell_type": "code",
      "source": [
        "horario=str(input('¿En qué turno estudias? (mañana, tarde o noche):'))\n",
        "if horario == 'mañana':\n",
        "    print('¡Buenos días!')\n",
        "elif horario == 'tarde':\n",
        "    print('¡Buenas tardes!')\n",
        "elif horario == 'noche':\n",
        "    print('¡Buenas noches!')\n",
        "else:\n",
        "    print('Turno no válido. Por favor ingresa: mañana, tarde o noche.')"
      ],
      "metadata": {
        "colab": {
          "base_uri": "https://localhost:8080/"
        },
        "id": "IZoQYvqdJ47r",
        "outputId": "7390df5d-553f-42e2-d116-b66827d88f4a"
      },
      "execution_count": 33,
      "outputs": [
        {
          "output_type": "stream",
          "name": "stdout",
          "text": [
            "¿En qué turno estudias? (mañana, tarde o noche):media tarde\n",
            "Turno no válido. Por favor ingresa: mañana, tarde o noche.\n"
          ]
        }
      ]
    },
    {
      "cell_type": "code",
      "source": [
        "##Escribe un programa que solicite un número entero a la persona usuaria y determine si es par o impar.\n",
        "Pista: Puedes usar el operador módulo (%)."
      ],
      "metadata": {
        "id": "aWt-TmWDJ5Ij"
      },
      "execution_count": null,
      "outputs": []
    },
    {
      "cell_type": "code",
      "source": [
        "numeros=int(input('Escribe un número entero:'))\n",
        "if numeros % 2 == 0:\n",
        "    print('El número es par')\n",
        "else:\n",
        "    print('El número es impar')"
      ],
      "metadata": {
        "colab": {
          "base_uri": "https://localhost:8080/"
        },
        "id": "Z0FUyMF2Psm2",
        "outputId": "2ee0cfab-bf58-4eea-9219-2301087b4f88"
      },
      "execution_count": 35,
      "outputs": [
        {
          "output_type": "stream",
          "name": "stdout",
          "text": [
            "Escribe un número entero:2\n",
            "El número es par\n"
          ]
        }
      ]
    },
    {
      "cell_type": "code",
      "source": [],
      "metadata": {
        "id": "StLWvwjLPs1r"
      },
      "execution_count": null,
      "outputs": []
    },
    {
      "cell_type": "code",
      "source": [],
      "metadata": {
        "id": "VSnS3dD_PtBD"
      },
      "execution_count": null,
      "outputs": []
    },
    {
      "cell_type": "code",
      "source": [],
      "metadata": {
        "id": "LYRYYhSaPtJR"
      },
      "execution_count": null,
      "outputs": []
    }
  ]
}