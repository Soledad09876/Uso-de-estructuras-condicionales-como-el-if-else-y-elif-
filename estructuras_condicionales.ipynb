{
  "nbformat": 4,
  "nbformat_minor": 0,
  "metadata": {
    "colab": {
      "provenance": [],
      "authorship_tag": "ABX9TyNgr2mQlio8h528U1c7D3yd",
      "include_colab_link": true
    },
    "kernelspec": {
      "name": "python3",
      "display_name": "Python 3"
    },
    "language_info": {
      "name": "python"
    }
  },
  "cells": [
    {
      "cell_type": "markdown",
      "metadata": {
        "id": "view-in-github",
        "colab_type": "text"
      },
      "source": [
        "<a href=\"https://colab.research.google.com/github/Soledad09876/Uso-de-estructuras-condicionales-como-el-if-else-y-elif-/blob/main/estructuras_condicionales.ipynb\" target=\"_parent\"><img src=\"https://colab.research.google.com/assets/colab-badge.svg\" alt=\"Open In Colab\"/></a>"
      ]
    },
    {
      "cell_type": "code",
      "execution_count": null,
      "metadata": {
        "id": "FqvTpCcqBXli"
      },
      "outputs": [],
      "source": [
        "##Escribe un programa que pida a la persona usuaria que proporcione dos números y muestre el número más grande."
      ]
    },
    {
      "cell_type": "code",
      "source": [
        "num1 = int(input(\"Proporciona un número: \"))\n",
        "num2 = int(input(\"Proporciona otro número: \"))\n",
        "if num1 > num2:\n",
        "    print(\"El número mayor es: \", num1)\n",
        "elif num2 > num1:\n",
        "    print(\"El número mayor es: \", num2)\n",
        "else:\n",
        "    print(\"Los números son iguales\")\n",
        ""
      ],
      "metadata": {
        "colab": {
          "base_uri": "https://localhost:8080/"
        },
        "id": "Uz7z97fOCHDU",
        "outputId": "2132ed0b-eda1-4ce4-d13a-f0fb1dcfe9fd"
      },
      "execution_count": 1,
      "outputs": [
        {
          "output_type": "stream",
          "name": "stdout",
          "text": [
            "Proporciona un número: 2\n",
            "Proporciona otro número: 4\n",
            "El número mayor es:  4\n"
          ]
        }
      ]
    },
    {
      "cell_type": "code",
      "source": [
        "##Escribe un programa que solicite el porcentaje de crecimiento de producción de una empresa\n",
        "##e informe si hubo un crecimiento (porcentaje positivo) o una disminución (porcentaje negativo)."
      ],
      "metadata": {
        "id": "azrPQMsfCIBS"
      },
      "execution_count": null,
      "outputs": []
    },
    {
      "cell_type": "code",
      "source": [
        "num1 = float(input(\"Proporciona el porcentaje de crecimiento de producción: \"))\n",
        "if num1 > 10:\n",
        "    print(\"Hubo un crecimiento de: \", num1)\n",
        "elif num1 < 10:\n",
        "    print(\"Hubo una disminución de: \", num1)\n",
        "else:\n",
        "    print(\"No hubo crecimiento ni disminución\")"
      ],
      "metadata": {
        "colab": {
          "base_uri": "https://localhost:8080/"
        },
        "id": "n-GHajOQCIOK",
        "outputId": "6b410d0a-6535-4488-b9a8-5633b5453946"
      },
      "execution_count": 3,
      "outputs": [
        {
          "output_type": "stream",
          "name": "stdout",
          "text": [
            "Proporciona el porcentaje de crecimiento de producción: 10\n",
            "No hubo crecimiento ni disminución\n"
          ]
        }
      ]
    },
    {
      "cell_type": "code",
      "source": [
        "##Escribe un programa que determine si una letra proporcionada por la persona usuaria es una vocal o una consonante."
      ],
      "metadata": {
        "id": "NDb4abOICIXh"
      },
      "execution_count": null,
      "outputs": []
    },
    {
      "cell_type": "code",
      "source": [
        "letra=str(input('Escribe una letra:'))\n",
        "print(letra)\n",
        "if letra == 'a' or letra == 'e' or letra == 'i' or letra == 'o' or letra == 'u':\n",
        "    print('Es una vocal')\n",
        "else:\n",
        "    print('Es una consonante')\n"
      ],
      "metadata": {
        "colab": {
          "base_uri": "https://localhost:8080/"
        },
        "id": "71EmDCDcCIfp",
        "outputId": "07d139e1-c3f1-497b-c550-1456c9444edb"
      },
      "execution_count": 5,
      "outputs": [
        {
          "output_type": "stream",
          "name": "stdout",
          "text": [
            "Escribe una letra:b\n",
            "b\n",
            "Es una consonante\n"
          ]
        }
      ]
    },
    {
      "cell_type": "code",
      "source": [
        "##Escribe un programa que lea valores promedio de precios de un modelo de automóvil durante 3 años consecutivos\n",
        "##y muestre el valor más alto y más bajo entre esos tres años."
      ],
      "metadata": {
        "id": "8OxNYsG1CIkm"
      },
      "execution_count": null,
      "outputs": []
    },
    {
      "cell_type": "code",
      "source": [
        "precio=float(input('Escribe el valor del primer año:'))\n",
        "precio2=float(input('Escribe el valor del segundo año:'))\n",
        "precio3=float(input('Escribe el valor del tercer año:'))\n",
        "\n",
        "if precio > precio2 and precio > precio3:\n",
        "    print('El valor más alto es:', precio)\n",
        "if precio2 > precio and precio2 > precio3:\n",
        "    print('El valor más alto es:', precio2)\n",
        "if precio3 > precio2 and precio3 > precio:\n",
        "    print('El valor más alto es:', precio3)\n",
        "\n",
        "if precio < precio2 and precio < precio3:\n",
        "    print('El valor más alto es:', precio)\n",
        "if precio2 < precio and precio2 < precio3:\n",
        "    print('El valor más alto es:', precio2)\n",
        "if precio3 < precio2 and precio3 < precio:\n",
        "    print('El valor más alto es:', precio3)\n"
      ],
      "metadata": {
        "colab": {
          "base_uri": "https://localhost:8080/"
        },
        "id": "T9j6xHDpCIpW",
        "outputId": "7c07e306-6afe-4ef9-b82c-88460962d32b"
      },
      "execution_count": 23,
      "outputs": [
        {
          "output_type": "stream",
          "name": "stdout",
          "text": [
            "Escribe el valor del primer año:1\n",
            "Escribe el valor del segundo año:2\n",
            "Escribe el valor del tercer año:3\n",
            "El valor más alto es: 3.0\n",
            "El valor más alto es: 1.0\n"
          ]
        }
      ]
    },
    {
      "cell_type": "code",
      "source": [
        "##Escribe un programa que pregunte sobre el precio de tres productos e indique cuál es el producto más barato para comprar."
      ],
      "metadata": {
        "id": "z7UXnHOgJXoP"
      },
      "execution_count": null,
      "outputs": []
    },
    {
      "cell_type": "code",
      "source": [
        "precio=float(input('Escribe el valor del primer producto:'))\n",
        "precio2=float(input('Escribe el valor del segundo producto:'))\n",
        "precio3=float(input('Escribe el valor del tercer producto:'))\n",
        "\n",
        "if precio < precio2 and precio < precio3:\n",
        "    print('El valor más barato es:', precio)\n",
        "if precio2 < precio and precio2 < precio3:\n",
        "    print('El valor más barato es:', precio2)\n",
        "if precio3 < precio2 and precio3 < precio:\n",
        "    print('El valor más barato es:', precio3)"
      ],
      "metadata": {
        "colab": {
          "base_uri": "https://localhost:8080/"
        },
        "id": "-ysFd9FaJYKc",
        "outputId": "25efb6f5-0e60-4227-b06f-5d3ce41c2823"
      },
      "execution_count": 24,
      "outputs": [
        {
          "output_type": "stream",
          "name": "stdout",
          "text": [
            "Escribe el valor del primer producto:10\n",
            "Escribe el valor del segundo producto:25\n",
            "Escribe el valor del tercer producto:50\n",
            "El valor más barato es: 10.0\n"
          ]
        }
      ]
    },
    {
      "cell_type": "code",
      "source": [
        "##Escribe un programa que lea tres números y los muestre en orden descendente."
      ],
      "metadata": {
        "id": "6SiHRyfmJYY1"
      },
      "execution_count": null,
      "outputs": []
    },
    {
      "cell_type": "code",
      "source": [
        "num1 = int(input(\"Proporciona un número: \"))\n",
        "num2 = int(input(\"Proporciona otro número: \"))\n",
        "num3 = int(input(\"Proporciona otro número: \"))\n",
        "\n",
        "numeros = [num1, num2, num3]\n",
        "numeros.sort(reverse=True)\n",
        "print(\"Números en orden descendente:\", numeros)\n"
      ],
      "metadata": {
        "colab": {
          "base_uri": "https://localhost:8080/"
        },
        "id": "c7pzWXNrJ4jb",
        "outputId": "a16a10e8-6cfc-461f-da22-b3d5b652c7e0"
      },
      "execution_count": 30,
      "outputs": [
        {
          "output_type": "stream",
          "name": "stdout",
          "text": [
            "Proporciona un número: 1\n",
            "Proporciona otro número: 3\n",
            "Proporciona otro número: 2\n",
            "Números en orden descendente: [3, 2, 1]\n"
          ]
        }
      ]
    },
    {
      "cell_type": "code",
      "source": [
        "##Escribe un programa que pregunte en qué turno estudia la persona usuaria (\"mañana\", \"tarde\" o \"noche\")\n",
        "##y muestre el mensaje \"¡Buenos Días!\", \"¡Buenas Tardes!\", \"¡Buenas Noches!\" o \"Valor Inválido!\", según el caso."
      ],
      "metadata": {
        "id": "e_FWxaA1J4v7"
      },
      "execution_count": null,
      "outputs": []
    },
    {
      "cell_type": "code",
      "source": [
        "horario=str(input('¿En qué turno estudias? (mañana, tarde o noche):'))\n",
        "if horario == 'mañana':\n",
        "    print('¡Buenos días!')\n",
        "elif horario == 'tarde':\n",
        "    print('¡Buenas tardes!')\n",
        "elif horario == 'noche':\n",
        "    print('¡Buenas noches!')\n",
        "else:\n",
        "    print('Turno no válido. Por favor ingresa: mañana, tarde o noche.')"
      ],
      "metadata": {
        "colab": {
          "base_uri": "https://localhost:8080/"
        },
        "id": "IZoQYvqdJ47r",
        "outputId": "7390df5d-553f-42e2-d116-b66827d88f4a"
      },
      "execution_count": 33,
      "outputs": [
        {
          "output_type": "stream",
          "name": "stdout",
          "text": [
            "¿En qué turno estudias? (mañana, tarde o noche):media tarde\n",
            "Turno no válido. Por favor ingresa: mañana, tarde o noche.\n"
          ]
        }
      ]
    },
    {
      "cell_type": "code",
      "source": [
        "##Escribe un programa que solicite un número entero a la persona usuaria y determine si es par o impar.\n",
        "Pista: Puedes usar el operador módulo (%)."
      ],
      "metadata": {
        "id": "aWt-TmWDJ5Ij"
      },
      "execution_count": null,
      "outputs": []
    },
    {
      "cell_type": "code",
      "source": [
        "numeros=int(input('Escribe un número entero:'))\n",
        "if numeros % 2 == 0:\n",
        "    print('El número es par')\n",
        "else:\n",
        "    print('El número es impar')"
      ],
      "metadata": {
        "colab": {
          "base_uri": "https://localhost:8080/"
        },
        "id": "Z0FUyMF2Psm2",
        "outputId": "2ee0cfab-bf58-4eea-9219-2301087b4f88"
      },
      "execution_count": 35,
      "outputs": [
        {
          "output_type": "stream",
          "name": "stdout",
          "text": [
            "Escribe un número entero:2\n",
            "El número es par\n"
          ]
        }
      ]
    },
    {
      "cell_type": "code",
      "source": [
        "##Escribe un programa que pida un número a la persona usuaria y le informe si es entero o decimal."
      ],
      "metadata": {
        "id": "StLWvwjLPs1r"
      },
      "execution_count": null,
      "outputs": []
    },
    {
      "cell_type": "code",
      "source": [
        "numero=float(input('Escribe un número:'))\n",
        "if numero == int(numero):\n",
        "    print('El número es entero')\n",
        "else:\n",
        "    print('El número es decimal')"
      ],
      "metadata": {
        "colab": {
          "base_uri": "https://localhost:8080/"
        },
        "id": "VSnS3dD_PtBD",
        "outputId": "40b5207d-2db2-470e-ea3a-4847b93713a5"
      },
      "execution_count": 39,
      "outputs": [
        {
          "output_type": "stream",
          "name": "stdout",
          "text": [
            "Escribe un número:1.1\n",
            "El número es decimal\n"
          ]
        }
      ]
    },
    {
      "cell_type": "code",
      "source": [
        "##Un programa debe ser escrito para leer dos números y luego preguntar a la persona usuaria qué operación desea realizar.\n",
        "##El resultado de la operación debe incluir información sobre el número, si es par o impar, positivo o negativo, e entero o decimal."
      ],
      "metadata": {
        "id": "LYRYYhSaPtJR"
      },
      "execution_count": null,
      "outputs": []
    },
    {
      "cell_type": "code",
      "source": [
        "num1 = float(input(\"Proporciona un número: \"))\n",
        "num2 = float(input(\"Proporciona otro número: \"))\n",
        "operacion=str(input('¿Qué operación deseas realizar? (suma, resta, multiplicación, división):'))\n",
        "\n",
        "print(operacion)\n",
        "\n",
        "if operacion == 'suma':\n",
        "    suma=num1+num2\n",
        "    print('El resultado de la suma es:', suma)\n",
        "    if suma % 2 == 0:\n",
        "        print('El número es par')\n",
        "    else:\n",
        "        print('El número es impar')\n",
        "\n",
        "    if suma > 0:\n",
        "        print('El número es positivo')\n",
        "    else:\n",
        "        print('El número es negativo')\n",
        "\n",
        "    if suma == int(suma):\n",
        "        print('El número es entero')\n",
        "    else:\n",
        "        print('El número es decimal')\n",
        "\n",
        "if operacion == 'resta':\n",
        "    resta=num1-num2\n",
        "    print('El resultado de la resta es:', resta)\n",
        "    if resta % 2 == 0:\n",
        "        print('El número es par')\n",
        "    else:\n",
        "        print('El número es impar')\n",
        "\n",
        "    if resta > 0:\n",
        "        print('El número es positivo')\n",
        "    else:\n",
        "        print('El número es negativo')\n",
        "\n",
        "    if resta == int(resta):\n",
        "        print('El número es entero')\n",
        "    else:\n",
        "        print('El número es decimal')\n",
        "\n",
        "if operacion == 'multiplicación':\n",
        "    multiplicacion=num1*num2\n",
        "    print('El resultado de la multiplicación es:', multiplicacion)\n",
        "    if multiplicacion % 2 == 0:\n",
        "        print('El número es par')\n",
        "    else:\n",
        "        print('El número es impar')\n",
        "\n",
        "    if multiplicacion > 0:\n",
        "        print('El número es positivo')\n",
        "    else:\n",
        "        print('El número es negativo')\n",
        "\n",
        "    if multiplicacion == int(multiplicacion):\n",
        "\n",
        "        print('El número es entero')\n",
        "    else:\n",
        "        print('El número es decimal')\n",
        "\n",
        "if operacion == 'división':\n",
        "    division=num1/num2\n",
        "    print('El resultado de la división es:', division)\n",
        "    if division % 2 == 0:\n",
        "        print('El número es par')\n",
        "    else:\n",
        "        print('El número es impar')\n",
        "\n",
        "    if division > 0:\n",
        "        print('El número es positivo')\n",
        "    else:\n",
        "        print('El número es negativo')\n",
        "\n",
        "    if division == int(division):\n",
        "        print('El número es entero')\n",
        "    else:\n",
        "        print('El número es decimal')\n",
        "\n"
      ],
      "metadata": {
        "colab": {
          "base_uri": "https://localhost:8080/"
        },
        "id": "m1pRSy0BRts3",
        "outputId": "e67342a7-76f6-46e3-c16e-dc9898fe54ee"
      },
      "execution_count": 45,
      "outputs": [
        {
          "output_type": "stream",
          "name": "stdout",
          "text": [
            "Proporciona un número: 2\n",
            "Proporciona otro número: 3\n",
            "¿Qué operación deseas realizar? (suma, resta, multiplicación, división):división\n",
            "división\n",
            "El resultado de la división es: 0.6666666666666666\n",
            "El número es impar\n",
            "El número es positivo\n",
            "El número es decimal\n"
          ]
        }
      ]
    },
    {
      "cell_type": "code",
      "source": [
        "##Escribe un programa que pida a la persona usuaria tres números que representan los lados de un triángulo.\n",
        "##El programa debe informar si los valores pueden utilizarse para formar un triángulo y, en caso afirmativo, si es equilátero, isósceles o escaleno.\n",
        "##Ten en cuenta algunas sugerencias:\n",
        "##Tres lados forman un triángulo cuando la suma de cualesquiera dos lados es mayor que el tercero;\n",
        "##Triángulo Equilátero: tres lados iguales;\n",
        "##Triángulo Isósceles: dos lados iguales;\n",
        "##Triángulo Escaleno: tres lados diferentes."
      ],
      "metadata": {
        "id": "8SXdHq67Rt8N"
      },
      "execution_count": null,
      "outputs": []
    },
    {
      "cell_type": "code",
      "source": [
        "numero_lado1=float(input('Escribe el valor del primer lado:'))\n",
        "numero_lado2=float(input('Escribe el valor del segundo lado:'))\n",
        "numero_lado3=float(input('Escribe el valor del tercer lado:'))\n",
        "\n",
        "suma = numero_lado1 + numero_lado2 + numero_lado3\n",
        "\n",
        "if suma == 180:\n",
        "    print(\"Los ángulos son válidos, suman 180 grados.\")\n",
        "else:\n",
        "    print(\"Error: la suma de los ángulos no es 180 grados.\")\n",
        "\n",
        "if numero_lado1 == numero_lado2 == numero_lado3 == 60:\n",
        "    print('El triángulo es equilátero')\n",
        "\n",
        "elif numero_lado1 == numero_lado2 or numero_lado1 == numero_lado3 or numero_lado2 == numero_lado3:\n",
        "    print('El triángulo es isósceles')\n",
        "\n",
        "if numero_lado1 != numero_lado2 != numero_lado3:\n",
        "    print('El triángulo es escaleno')\n",
        "\n",
        "\n",
        "\n"
      ],
      "metadata": {
        "colab": {
          "base_uri": "https://localhost:8080/"
        },
        "id": "0uXlygbFRuG1",
        "outputId": "658d7c85-3119-43b7-881c-46f4f14bcb88"
      },
      "execution_count": 68,
      "outputs": [
        {
          "output_type": "stream",
          "name": "stdout",
          "text": [
            "Escribe el valor del primer lado:50\n",
            "Escribe el valor del segundo lado:70\n",
            "Escribe el valor del tercer lado:60\n",
            "Los ángulos son válidos, suman 180 grados.\n",
            "El triángulo es escaleno\n"
          ]
        }
      ]
    },
    {
      "cell_type": "code",
      "source": [
        "##Un establecimiento está vendiendo combustibles con descuentos variables:\n",
        "\n",
        "##Para el etanol, si la cantidad comprada es de hasta 15 litros, el descuento será del 2% por litro. En caso contrario, será del 4% por litro.\n",
        "##Para el diésel, si la cantidad comprada es de hasta 15 litros, el descuento será del 3% por litro. En caso contrario, será del 5% por litro.\n",
        "\n",
        "##El precio por litro de diésel es de R$ 2,00 y el precio por litro de etanol es de R$ 1,70.\n",
        "\n",
        "##Escribe un programa que lea la cantidad de litros vendidos y el tipo de combustible (E para etanol y D para diésel)\n",
        "##y calcule el valor a pagar por el cliente.\n",
        "\n",
        "##Ten en cuenta algunas sugerencias:\n",
        "##El valor del descuento será el producto del precio por litro, la cantidad de litros y el valor del descuento.\n",
        "##El valor a pagar por un cliente será el resultado de la multiplicación del precio por litro por la cantidad de litros,\n",
        "##menos el valor del descuento resultante del cálculo."
      ],
      "metadata": {
        "id": "r36q3PshRuOS"
      },
      "execution_count": null,
      "outputs": []
    },
    {
      "cell_type": "code",
      "source": [
        "E = float(input('escriba la cantidad lts comprada de Etanol:'))\n",
        "D = float(input('escriba la cantidad lts comprada de Diesel:'))\n",
        "\n",
        "print(\"la cantidad lts de Etanol fue:\",E)\n",
        "print(\"la cantidad lts de Diesel fue:\",D)\n",
        "\n",
        "Precio_Etanol= 1.70\n",
        "Precio_Diesel= 2.00\n",
        "\n",
        "if E > 0:\n",
        "    if E <= 15:\n",
        "        descuento_etanol = 0.02\n",
        "    else:\n",
        "        descuento_etanol = 0.04\n",
        "    total_etanol = E * Precio_Etanol * (1 - descuento_etanol)\n",
        "else:\n",
        "    total_etanol = 0\n",
        "\n",
        "if D > 0:\n",
        "    if D <= 15:\n",
        "        descuento_diesel = 0.03\n",
        "    else:\n",
        "        descuento_diesel = 0.05\n",
        "    total_diesel = D * Precio_Diesel * (1 - descuento_diesel)\n",
        "else:\n",
        "    total_diesel = 0\n",
        "\n",
        "\n",
        "print(f\"Total a pagar por Etanol: R$ {total_etanol:.2f}\")\n",
        "print(f\"Total a pagar por Diésel: R$ {total_diesel:.2f}\")\n"
      ],
      "metadata": {
        "colab": {
          "base_uri": "https://localhost:8080/"
        },
        "id": "Q6goP9ZMRuUS",
        "outputId": "246f0815-63af-4898-9543-aba78c8513eb"
      },
      "execution_count": 106,
      "outputs": [
        {
          "output_type": "stream",
          "name": "stdout",
          "text": [
            "escriba la cantidad lts comprada de Etanol:10.3\n",
            "escriba la cantidad lts comprada de Diesel:11.5\n",
            "la cantidad lts de Etanol fue: 10.3\n",
            "la cantidad lts de Diesel fue: 11.5\n",
            "Total a pagar por Etanol: R$ 17.16\n",
            "Total a pagar por Diésel: R$ 22.31\n"
          ]
        }
      ]
    },
    {
      "cell_type": "code",
      "source": [
        "##En una empresa de venta de bienes raíces, debes crear un código que analice los datos de ventas anuales,\n",
        "##para ayudar a la dirección en la toma de decisiones.\n",
        "##El código debe recopilar los datos de cantidad de ventas durante los años 2022 y 2023 y calcular la variación porcentual.\n",
        "\n",
        "##A partir del valor de la variación, se deben proporcionar las siguientes sugerencias:\n",
        "\n",
        "##Para una variación superior al 20%: bonificación para el equipo de ventas.\n",
        "##Para una variación entre el 2% y el 20%: pequeña bonificación para el equipo de ventas.\n",
        "##Para una variación entre el 2% y el -10%: planificación de políticas de incentivo a las ventas.\n",
        "##Para bonificaciones inferiores al -10%: recorte de gastos."
      ],
      "metadata": {
        "id": "Bj-DpfOR4NYd"
      },
      "execution_count": null,
      "outputs": []
    },
    {
      "cell_type": "code",
      "source": [
        "Ventas_2022 = float(input('Escribe la cantidad de ventas del año 2022:'))\n",
        "Ventas_2023 = float(input('Escribe la cantidad de ventas del año 2023:'))\n",
        "\n",
        "print(\"la cantidad de ventas del año 2022 fue:\",Ventas_2022)\n",
        "print(\"la cantidad de ventas del año 2023 fue:\",Ventas_2023)\n",
        "\n",
        "variacion_porcentual = (Ventas_2023 - Ventas_2022) / Ventas_2022\n",
        "print(f\"La variación porcentual es: {variacion_porcentual:.2f}%\")\n",
        "\n",
        "if variacion_porcentual > 0.2:\n",
        "    print(\"Bonificación para el equipo de ventas\")\n",
        "\n",
        "elif variacion_porcentual > 0.02 <= 0.20:\n",
        "    print(\"Pequeña bonificación para el equipo de ventas\")\n",
        "\n",
        "    if variacion_porcentual > 0.2:\n",
        "        print(\"Planificación de políticas de incentivo a las ventas\")\n",
        "\n",
        "elif variacion_porcentual > -0.1:\n",
        "    print(\"Planificación de políticas de incentivo a las ventas\")\n",
        "\n",
        "    if variacion_porcentual > -0.1:\n",
        "        print(\"Recorte de gastos\")\n",
        "    if variacion_porcentual < -0.1:\n",
        "      print(\"Planificación de políticas de incentivo a las ventas\")\n",
        "else:\n",
        "    print(\"Recorte de gastos\")\n",
        "\n"
      ],
      "metadata": {
        "colab": {
          "base_uri": "https://localhost:8080/"
        },
        "id": "KQvkHssD4Noi",
        "outputId": "081f0eec-22dd-4398-faed-1487316e0193"
      },
      "execution_count": 121,
      "outputs": [
        {
          "output_type": "stream",
          "name": "stdout",
          "text": [
            "Escribe la cantidad de ventas del año 2022:1000\n",
            "Escribe la cantidad de ventas del año 2023:1100\n",
            "la cantidad de ventas del año 2022 fue: 1000.0\n",
            "la cantidad de ventas del año 2023 fue: 1100.0\n",
            "La variación porcentual es: 0.10%\n",
            "Pequeña bonificación para el equipo de ventas\n"
          ]
        }
      ]
    }
  ]
}